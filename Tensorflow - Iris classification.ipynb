{
 "cells": [
  {
   "cell_type": "code",
   "execution_count": 1,
   "metadata": {},
   "outputs": [
    {
     "data": {
      "text/html": [
       "<div>\n",
       "<style scoped>\n",
       "    .dataframe tbody tr th:only-of-type {\n",
       "        vertical-align: middle;\n",
       "    }\n",
       "\n",
       "    .dataframe tbody tr th {\n",
       "        vertical-align: top;\n",
       "    }\n",
       "\n",
       "    .dataframe thead th {\n",
       "        text-align: right;\n",
       "    }\n",
       "</style>\n",
       "<table border=\"1\" class=\"dataframe\">\n",
       "  <thead>\n",
       "    <tr style=\"text-align: right;\">\n",
       "      <th></th>\n",
       "      <th>SepalLengthCm</th>\n",
       "      <th>SepalWidthCm</th>\n",
       "      <th>PetalLengthCm</th>\n",
       "      <th>PetalWidthCm</th>\n",
       "      <th>Species</th>\n",
       "    </tr>\n",
       "    <tr>\n",
       "      <th>Id</th>\n",
       "      <th></th>\n",
       "      <th></th>\n",
       "      <th></th>\n",
       "      <th></th>\n",
       "      <th></th>\n",
       "    </tr>\n",
       "  </thead>\n",
       "  <tbody>\n",
       "    <tr>\n",
       "      <th>1</th>\n",
       "      <td>5.1</td>\n",
       "      <td>3.5</td>\n",
       "      <td>1.4</td>\n",
       "      <td>0.2</td>\n",
       "      <td>Iris-setosa</td>\n",
       "    </tr>\n",
       "    <tr>\n",
       "      <th>2</th>\n",
       "      <td>4.9</td>\n",
       "      <td>3.0</td>\n",
       "      <td>1.4</td>\n",
       "      <td>0.2</td>\n",
       "      <td>Iris-setosa</td>\n",
       "    </tr>\n",
       "    <tr>\n",
       "      <th>3</th>\n",
       "      <td>4.7</td>\n",
       "      <td>3.2</td>\n",
       "      <td>1.3</td>\n",
       "      <td>0.2</td>\n",
       "      <td>Iris-setosa</td>\n",
       "    </tr>\n",
       "    <tr>\n",
       "      <th>4</th>\n",
       "      <td>4.6</td>\n",
       "      <td>3.1</td>\n",
       "      <td>1.5</td>\n",
       "      <td>0.2</td>\n",
       "      <td>Iris-setosa</td>\n",
       "    </tr>\n",
       "    <tr>\n",
       "      <th>5</th>\n",
       "      <td>5.0</td>\n",
       "      <td>3.6</td>\n",
       "      <td>1.4</td>\n",
       "      <td>0.2</td>\n",
       "      <td>Iris-setosa</td>\n",
       "    </tr>\n",
       "  </tbody>\n",
       "</table>\n",
       "</div>"
      ],
      "text/plain": [
       "    SepalLengthCm  SepalWidthCm  PetalLengthCm  PetalWidthCm      Species\n",
       "Id                                                                       \n",
       "1             5.1           3.5            1.4           0.2  Iris-setosa\n",
       "2             4.9           3.0            1.4           0.2  Iris-setosa\n",
       "3             4.7           3.2            1.3           0.2  Iris-setosa\n",
       "4             4.6           3.1            1.5           0.2  Iris-setosa\n",
       "5             5.0           3.6            1.4           0.2  Iris-setosa"
      ]
     },
     "execution_count": 1,
     "metadata": {},
     "output_type": "execute_result"
    }
   ],
   "source": [
    "import tensorflow as tf\n",
    "import os\n",
    "import pandas as pd\n",
    "import numpy as np\n",
    "import matplotlib.pyplot as plt\n",
    "\n",
    "# load data\n",
    "csvdata = pd.read_csv('iris.csv', index_col = 0)\n",
    "csvdata.head()"
   ]
  },
  {
   "cell_type": "code",
   "execution_count": 2,
   "metadata": {},
   "outputs": [],
   "source": [
    "# extract features and normalize data(!)\n",
    "data = csvdata[csvdata.columns[:-1]]\n",
    "data = (data - data.mean()) / (data.max() - data.min())\n",
    "\n",
    "# extract labels and replace with indexes\n",
    "labels = csvdata[csvdata.columns[-1]]\n",
    "idx = 0\n",
    "labels_set = set(labels)\n",
    "for label in set(labels):\n",
    "    labels = labels.replace(label, idx)\n",
    "    idx = idx+1"
   ]
  },
  {
   "cell_type": "code",
   "execution_count": 3,
   "metadata": {},
   "outputs": [
    {
     "name": "stdout",
     "output_type": "stream",
     "text": [
      "('input', <tf.Tensor 'input:0' shape=(?, 4) dtype=float32>)\n",
      "('layer', <tf.Tensor 'Relu:0' shape=(?, 10) dtype=float32>)\n",
      "('output', <tf.Tensor 'Add_1:0' shape=(?, 3) dtype=float32>)\n"
     ]
    }
   ],
   "source": [
    "#\n",
    "# Builds a simple NN with one hidden layer\n",
    "#\n",
    "def build_model(input_features, hidden_units, output_features):\n",
    "    \n",
    "    # inputs\n",
    "    X = tf.placeholder(tf.float32,[None,input_features], name=\"input\")\n",
    "   \n",
    "    print('input', X)\n",
    "    \n",
    "    # hidden layers\n",
    "    layer = X\n",
    "    layer_inputs = input_features\n",
    "    for units in hidden_units:\n",
    "        # hiden layer\n",
    "        w = tf.Variable(tf.random_uniform([layer_inputs, units], -1, 1))\n",
    "        b = tf.Variable(tf.random_uniform([1, units], -1, 1))\n",
    "        layer = tf.nn.relu(tf.add(tf.matmul(layer, w), b))\n",
    "        layer_inputs = units\n",
    "        print('layer', layer)\n",
    "\n",
    "    # output layer\n",
    "    w2 = tf.Variable(tf.random_uniform([layer_inputs, output_features], -1, 1))\n",
    "    b2 = tf.Variable(tf.random_uniform([1, output_features], -1, 1))\n",
    "    output = tf.add(tf.matmul(layer, w2), b2)\n",
    "    print('output', output)\n",
    "    \n",
    "    # targets\n",
    "    Y = tf.placeholder(tf.int32,name=\"output\")\n",
    "    \n",
    "    return X, output, Y\n",
    "\n",
    "input_features=data.shape[1]\n",
    "output_features=len(set(labels))\n",
    "\n",
    "# build our model\n",
    "x, output, y = build_model(input_features, [10], output_features)\n",
    "\n",
    "# converter from one hot vector to labels\n",
    "output_labels = tf.argmax(output, axis=1)\n"
   ]
  },
  {
   "cell_type": "code",
   "execution_count": 4,
   "metadata": {},
   "outputs": [
    {
     "name": "stdout",
     "output_type": "stream",
     "text": [
      "Accuracy: 97.1764683723%\n"
     ]
    },
    {
     "data": {
      "image/png": "[encoded data removed]",
      "text/plain": [
       "<Figure size 432x288 with 1 Axes>"
      ]
     },
     "metadata": {
      "needs_background": "light"
     },
     "output_type": "display_data"
    },
    {
     "data": {
      "image/png": "[encoded data removed]",
      "text/plain": [
       "<Figure size 432x288 with 1 Axes>"
      ]
     },
     "metadata": {
      "needs_background": "light"
     },
     "output_type": "display_data"
    }
   ],
   "source": [
    "# cost function\n",
    "cost = tf.losses.sparse_softmax_cross_entropy(y, output)\n",
    "\n",
    "# optimizer as gradient descent\n",
    "optimizer = tf.train.GradientDescentOptimizer(0.5).minimize(cost)\n",
    "\n",
    "# accuracy metric\n",
    "acc, acc_op = tf.metrics.accuracy(labels=y, predictions=output_labels)\n",
    "\n",
    "# run training session\n",
    "sess = tf.Session()\n",
    "sess.run(tf.global_variables_initializer())\n",
    "sess.run(tf.local_variables_initializer())\n",
    "\n",
    "cost_history = []\n",
    "acc_history = []\n",
    "for epoch in range(5000):\n",
    "    sess.run(optimizer, feed_dict={x:data, y:labels})\n",
    "    if epoch % 100 == 0:\n",
    "        cost_history.append( sess.run(cost, feed_dict={x:data, y:labels}) )\n",
    "        acc_history.append( sess.run(acc_op, feed_dict={x:data, y:labels}) )\n",
    "\n",
    "\n",
    "print('Accuracy: {}%'.format(100*sess.run(acc_op, feed_dict={x:data, y:labels})))\n",
    "     \n",
    "# plot training progress\n",
    "predicted_labels = sess.run(output_labels, feed_dict={x:data, y:labels})\n",
    "plt.plot(cost_history)\n",
    "plt.title('Cost history')\n",
    "plt.show()\n",
    "\n",
    "plt.plot(acc_history)\n",
    "plt.title('Accuracy history')\n",
    "plt.show()"
   ]
  },
  {
   "cell_type": "code",
   "execution_count": null,
   "metadata": {},
   "outputs": [],
   "source": []
  }
 ],
 "metadata": {
  "kernelspec": {
   "display_name": "Python 2",
   "language": "python",
   "name": "python2"
  },
  "language_info": {
   "codemirror_mode": {
    "name": "ipython",
    "version": 2
   },
   "file_extension": ".py",
   "mimetype": "text/x-python",
   "name": "python",
   "nbconvert_exporter": "python",
   "pygments_lexer": "ipython2",
   "version": "2.7.15"
  }
 },
 "nbformat": 4,
 "nbformat_minor": 2
}
