{
 "cells": [
  {
   "cell_type": "code",
   "execution_count": 1,
   "metadata": {},
   "outputs": [],
   "source": [
    "import matplotlib.pyplot as plt\n",
    "import tensorflow as tf\n",
    "import math\n",
    "import numpy as np\n",
    "\n",
    "# load MNIST data\n",
    "mnist = tf.keras.datasets.mnist\n",
    "(x_train, y_train),(x_test, y_test) = mnist.load_data()\n",
    "\n",
    "# normalize data\n",
    "x_train, x_test = x_train / 255.0, x_test / 255.0"
   ]
  },
  {
   "cell_type": "code",
   "execution_count": 2,
   "metadata": {},
   "outputs": [
    {
     "name": "stdout",
     "output_type": "stream",
     "text": [
      "('input', <tf.Tensor 'input:0' shape=(?, 28, 28) dtype=float32>)\n",
      "('flatten input', <tf.Tensor 'flatten/Reshape:0' shape=(?, 784) dtype=float32>)\n",
      "('hidden layer', <tf.Tensor 'Relu:0' shape=(?, 512) dtype=float32>)\n",
      "('hidden layer', <tf.Tensor 'Relu_1:0' shape=(?, 10) dtype=float32>)\n",
      "('output', <tf.Tensor 'Add_2:0' shape=(?, 10) dtype=float32>)\n",
      "('labels', <tf.Tensor 'labels:0' shape=(?,) dtype=int32>)\n"
     ]
    }
   ],
   "source": [
    "#\n",
    "# Build a simple NN with hidden layers\n",
    "#\n",
    "def build_layer(x, units, activation=None):\n",
    "    input_features = int(x.shape[1])\n",
    "    stddev = 2 / np.sqrt(input_features)\n",
    "    w = tf.Variable(tf.truncated_normal([input_features, units], stddev=stddev))\n",
    "    b = tf.Variable(tf.zeros([1, units]))\n",
    "    output = tf.add(tf.matmul(x, w), b)\n",
    "    return activation(output) if activation else output\n",
    "    \n",
    "def build_model(input_features, output_features, hidden_units):\n",
    "    \n",
    "    # inputs\n",
    "    input_shape = [None]\n",
    "    input_shape.extend(input_features)      # [None, 28, 28]\n",
    "    x = tf.placeholder(tf.float32, input_shape, name=\"input\")\n",
    "    print('input', x)\n",
    "    \n",
    "    # flatten\n",
    "    y = tf.layers.Flatten()(x)\n",
    "    print('flatten input', y)\n",
    "    \n",
    "    # hidden layers\n",
    "    for units in hidden_units:\n",
    "        y = build_layer(y, units, tf.nn.relu)\n",
    "        print('hidden layer', y)\n",
    "        \n",
    "    # output layer\n",
    "    y = build_layer(y, output_features)\n",
    "    print('output', y)\n",
    "    \n",
    "    # targets\n",
    "    labels = tf.placeholder(tf.int32, [None], name=\"labels\")\n",
    "    print('labels', labels)\n",
    "    \n",
    "    return x, y, labels\n",
    "\n",
    "# shapes\n",
    "input_shape=x_train.shape[1:]\n",
    "output_features=len(set(y_train))\n",
    "\n",
    "# build our model\n",
    "X, logits, y = build_model(input_shape, output_features, [512, 10])"
   ]
  },
  {
   "cell_type": "code",
   "execution_count": 3,
   "metadata": {
    "scrolled": false
   },
   "outputs": [
    {
     "name": "stdout",
     "output_type": "stream",
     "text": [
      "Epoch 0: Loss: 0.131886079907, train accuracy: 0.960500001907, test accuracy: 0.959742844105\n",
      "Epoch 1: Loss: 0.0860697701573, train accuracy: 0.965730786324, test accuracy: 0.9656214118\n",
      "Epoch 2: Loss: 0.0555194951594, train accuracy: 0.970570027828, test accuracy: 0.970561921597\n",
      "Epoch 3: Loss: 0.040143750608, train accuracy: 0.974300026894, test accuracy: 0.974207162857\n",
      "Epoch 4: Loss: 0.033744353801, train accuracy: 0.97678822279, test accuracy: 0.976671457291\n"
     ]
    }
   ],
   "source": [
    "# cost function\n",
    "# tf.nn.sparse_softmax_cross_entropy_with_logits takes labels as numbers, logits as one-hot vector\n",
    "cost = tf.reduce_mean(tf.nn.sparse_softmax_cross_entropy_with_logits(labels=y, logits=logits))\n",
    "\n",
    "# optimizer as gradient descent\n",
    "optimizer = tf.train.GradientDescentOptimizer(0.1).minimize(cost)\n",
    "    \n",
    "# accuracy metric\n",
    "acc, acc_op = tf.metrics.accuracy(labels=y, predictions=tf.argmax(logits,1))\n",
    "\n",
    "# run training session\n",
    "with tf.Session() as sess:\n",
    "    sess.run(tf.global_variables_initializer())\n",
    "    sess.run(tf.local_variables_initializer())\n",
    "    \n",
    "    batch_size=32\n",
    "    batch_count=x_train.shape[0] // batch_size\n",
    "\n",
    "    for epoch in range(5):\n",
    "        for i in range(batch_count):\n",
    "            x_batch = x_train[i*batch_size: (i+1)*batch_size]\n",
    "            y_batch = y_train[i*batch_size: (i+1)*batch_size]\n",
    "            sess.run(optimizer, feed_dict={X:x_batch, y:y_batch})\n",
    "        \n",
    "        print('Epoch {}: Loss: {}, train accuracy: {}, test accuracy: {}\\r'.format(epoch, \n",
    "                                                     sess.run(cost, feed_dict={X:x_train, y:y_train}), \n",
    "                                                     sess.run(acc_op, feed_dict={X:x_train, y:y_train}),\n",
    "                                                     sess.run(acc_op, feed_dict={X:x_test, y:y_test})))"
   ]
  },
  {
   "cell_type": "code",
   "execution_count": 4,
   "metadata": {},
   "outputs": [
    {
     "name": "stdout",
     "output_type": "stream",
     "text": [
      "Epoch 1/5\n",
      "60000/60000 [==============================] - 5s 90us/step - loss: 0.2019 - acc: 0.9403\n",
      "Epoch 2/5\n",
      "60000/60000 [==============================] - 5s 87us/step - loss: 0.0816 - acc: 0.9749\n",
      "Epoch 3/5\n",
      "60000/60000 [==============================] - 5s 89us/step - loss: 0.0525 - acc: 0.9839\n",
      "Epoch 4/5\n",
      "60000/60000 [==============================] - 5s 87us/step - loss: 0.0369 - acc: 0.9883\n",
      "Epoch 5/5\n",
      "60000/60000 [==============================] - 5s 90us/step - loss: 0.0265 - acc: 0.9915\n",
      "10000/10000 [==============================] - 0s 31us/step\n"
     ]
    },
    {
     "data": {
      "text/plain": [
       "[0.06355307361135493, 0.9815]"
      ]
     },
     "execution_count": 4,
     "metadata": {},
     "output_type": "execute_result"
    }
   ],
   "source": [
    "model = tf.keras.models.Sequential([\n",
    "  tf.keras.layers.Flatten(input_shape=(28, 28)),\n",
    "  tf.keras.layers.Dense(512, activation=tf.nn.relu),\n",
    "  tf.keras.layers.Dense(10, activation=tf.nn.softmax)\n",
    "])\n",
    "model.compile(optimizer='adam',\n",
    "              loss='sparse_categorical_crossentropy',\n",
    "              metrics=['accuracy'])\n",
    "\n",
    "model.fit(x_train, y_train, epochs=5)\n",
    "model.evaluate(x_test, y_test)"
   ]
  }
 ],
 "metadata": {
  "kernelspec": {
   "display_name": "Python 2",
   "language": "python",
   "name": "python2"
  },
  "language_info": {
   "codemirror_mode": {
    "name": "ipython",
    "version": 2
   },
   "file_extension": ".py",
   "mimetype": "text/x-python",
   "name": "python",
   "nbconvert_exporter": "python",
   "pygments_lexer": "ipython2",
   "version": "2.7.15"
  }
 },
 "nbformat": 4,
 "nbformat_minor": 2
}
