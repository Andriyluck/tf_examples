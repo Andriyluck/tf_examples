{
 "cells": [
  {
   "cell_type": "code",
   "execution_count": 1,
   "metadata": {},
   "outputs": [],
   "source": [
    "from matplotlib import pyplot as plt\n",
    "import tensorflow as tf\n",
    "import numpy as np"
   ]
  },
  {
   "cell_type": "code",
   "execution_count": 2,
   "metadata": {},
   "outputs": [],
   "source": [
    "#\n",
    "# XOR example\n",
    "#\n",
    "# 0,0 => 0\n",
    "# 0,1 => 1\n",
    "# 1,0 => 1\n",
    "# 1,1 => 0\n",
    "\n",
    "XOR_X = np.array([[0,0],[0,1],[1,0],[1,1]])\n",
    "XOR_Y = np.array([[0],  [1],  [1],  [0]])"
   ]
  },
  {
   "cell_type": "code",
   "execution_count": 3,
   "metadata": {},
   "outputs": [],
   "source": [
    "#\n",
    "# Build model graph\n",
    "#\n",
    "n_input_features = 2\n",
    "n_hidden_nodes = 2\n",
    "n_output_features = 1\n",
    "\n",
    "# tensors to represent our model:\n",
    "#   input: Nx2\n",
    "#   weights: 2x1\n",
    "#   bias: 2x1\n",
    "#   output = w * x + b\n",
    "x = tf.placeholder(tf.float32, shape=(None,n_input_features), name='input')\n",
    "y = tf.placeholder(tf.float32, shape=(None,n_output_features), name='correct_output')\n",
    "\n",
    "w_hidden = tf.Variable(tf.random_uniform([n_input_features,n_hidden_nodes]), name=\"weights_hidden\")\n",
    "b_hidden = tf.Variable(tf.random_uniform([n_hidden_nodes]), name=\"bias_hidden\")\n",
    "\n",
    "w = tf.Variable(tf.random_uniform([n_hidden_nodes,n_output_features]), name=\"weights\")\n",
    "b = tf.Variable(tf.random_uniform([n_output_features]), name=\"bias\")\n",
    "\n",
    "layer1 = tf.sigmoid(tf.add(tf.matmul(x,w_hidden), b_hidden))\n",
    "output = tf.sigmoid(tf.add(tf.matmul(layer1, w), b))"
   ]
  },
  {
   "cell_type": "code",
   "execution_count": 6,
   "metadata": {},
   "outputs": [
    {
     "name": "stdout",
     "output_type": "stream",
     "text": [
      "[[0.06799753]\n",
      " [0.93536365]\n",
      " [0.935514  ]\n",
      " [0.07101597]]\n"
     ]
    },
    {
     "data": {
      "image/png": "[encoded data removed]",
      "text/plain": [
       "<Figure size 432x288 with 1 Axes>"
      ]
     },
     "metadata": {
      "needs_background": "light"
     },
     "output_type": "display_data"
    }
   ],
   "source": [
    "#\n",
    "# Train model\n",
    "#\n",
    "\n",
    "# Inefficient, but simplest cost function\n",
    "cost = tf.reduce_mean(tf.square(y - output)) \n",
    "\n",
    "# Gradient descent with learning rate=0.5\n",
    "optimizer = tf.train.GradientDescentOptimizer(1).minimize(cost)\n",
    "\n",
    "# Run training\n",
    "sess = tf.Session()\n",
    "sess.run(tf.global_variables_initializer())\n",
    "cost_history = []\n",
    "for epoch in range(2000):\n",
    "    sess.run(optimizer, feed_dict={x: XOR_X, y: XOR_Y})\n",
    "    if epoch % 100 == 0:\n",
    "        cost_history.append( sess.run(cost, {x: XOR_X, y: XOR_Y}) )\n",
    "\n",
    "# Evaluate model\n",
    "out = sess.run(output, feed_dict={x: XOR_X, y: XOR_Y})\n",
    "print(out)\n",
    "\n",
    "# Learning curve\n",
    "plt.plot(cost_history, label='Learning curve')\n",
    "plt.legend()\n",
    "plt.show()"
   ]
  },
  {
   "cell_type": "code",
   "execution_count": null,
   "metadata": {},
   "outputs": [],
   "source": []
  }
 ],
 "metadata": {
  "kernelspec": {
   "display_name": "Python 2",
   "language": "python",
   "name": "python2"
  },
  "language_info": {
   "codemirror_mode": {
    "name": "ipython",
    "version": 2
   },
   "file_extension": ".py",
   "mimetype": "text/x-python",
   "name": "python",
   "nbconvert_exporter": "python",
   "pygments_lexer": "ipython2",
   "version": "2.7.15"
  }
 },
 "nbformat": 4,
 "nbformat_minor": 2
}
